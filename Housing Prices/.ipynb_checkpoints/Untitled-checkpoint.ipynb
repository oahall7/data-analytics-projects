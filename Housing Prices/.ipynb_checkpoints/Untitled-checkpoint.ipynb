{
 "cells": [
  {
   "cell_type": "code",
   "execution_count": 1,
   "id": "f29506a0-0e5b-4d5e-a370-5f1c07ec247a",
   "metadata": {},
   "outputs": [
    {
     "name": "stdout",
     "output_type": "stream",
     "text": [
      "\u001b[33mWARNING: Skipping /Users/owenhall/anaconda3/lib/python3.11/site-packages/jupyter_highlight_selected_word-0.2.0.dist-info due to invalid metadata entry 'name'\u001b[0m\u001b[33m\n",
      "\u001b[0m\u001b[33mWARNING: Skipping /Users/owenhall/anaconda3/lib/python3.11/site-packages/jupyter_highlight_selected_word-0.2.0.dist-info due to invalid metadata entry 'name'\u001b[0m\u001b[33m\n",
      "\u001b[0mRequirement already satisfied: seaborn in /Users/owenhall/anaconda3/lib/python3.11/site-packages (0.13.1)\n",
      "Requirement already satisfied: matplotlib in /Users/owenhall/anaconda3/lib/python3.11/site-packages (3.8.0)\n",
      "Requirement already satisfied: numpy!=1.24.0,>=1.20 in /Users/owenhall/anaconda3/lib/python3.11/site-packages (from seaborn) (1.24.3)\n",
      "Requirement already satisfied: pandas>=1.2 in /Users/owenhall/anaconda3/lib/python3.11/site-packages (from seaborn) (2.1.4)\n",
      "Requirement already satisfied: contourpy>=1.0.1 in /Users/owenhall/anaconda3/lib/python3.11/site-packages (from matplotlib) (1.2.0)\n",
      "Requirement already satisfied: cycler>=0.10 in /Users/owenhall/anaconda3/lib/python3.11/site-packages (from matplotlib) (0.11.0)\n",
      "Requirement already satisfied: fonttools>=4.22.0 in /Users/owenhall/anaconda3/lib/python3.11/site-packages (from matplotlib) (4.25.0)\n",
      "Requirement already satisfied: kiwisolver>=1.0.1 in /Users/owenhall/anaconda3/lib/python3.11/site-packages (from matplotlib) (1.4.4)\n",
      "Requirement already satisfied: packaging>=20.0 in /Users/owenhall/anaconda3/lib/python3.11/site-packages (from matplotlib) (23.1)\n",
      "Requirement already satisfied: pillow>=6.2.0 in /Users/owenhall/anaconda3/lib/python3.11/site-packages (from matplotlib) (10.0.1)\n",
      "Requirement already satisfied: pyparsing>=2.3.1 in /Users/owenhall/anaconda3/lib/python3.11/site-packages (from matplotlib) (3.0.9)\n",
      "Requirement already satisfied: python-dateutil>=2.7 in /Users/owenhall/anaconda3/lib/python3.11/site-packages (from matplotlib) (2.8.2)\n",
      "Requirement already satisfied: pytz>=2020.1 in /Users/owenhall/anaconda3/lib/python3.11/site-packages (from pandas>=1.2->seaborn) (2023.3.post1)\n",
      "Requirement already satisfied: tzdata>=2022.1 in /Users/owenhall/anaconda3/lib/python3.11/site-packages (from pandas>=1.2->seaborn) (2023.3)\n",
      "Requirement already satisfied: six>=1.5 in /Users/owenhall/anaconda3/lib/python3.11/site-packages (from python-dateutil>=2.7->matplotlib) (1.16.0)\n",
      "\u001b[33mWARNING: Skipping /Users/owenhall/anaconda3/lib/python3.11/site-packages/jupyter_highlight_selected_word-0.2.0.dist-info due to invalid metadata entry 'name'\u001b[0m\u001b[33m\n",
      "\u001b[0m\u001b[33mWARNING: Skipping /Users/owenhall/anaconda3/lib/python3.11/site-packages/jupyter_highlight_selected_word-0.2.0.dist-info due to invalid metadata entry 'name'\u001b[0m\u001b[33m\n",
      "\u001b[0mNote: you may need to restart the kernel to use updated packages.\n"
     ]
    }
   ],
   "source": [
    "pip install seaborn matplotlib"
   ]
  },
  {
   "cell_type": "code",
   "execution_count": 2,
   "id": "a33eb090-9871-4fe3-ae76-ee831a8ff428",
   "metadata": {},
   "outputs": [],
   "source": [
    "#imports\n",
    "import pandas as pd\n",
    "import numpy as np\n",
    "import seaborn as sns\n",
    "import matplotlib.pyplot as plt\n",
    "%matplotlib inline\n"
   ]
  },
  {
   "cell_type": "code",
   "execution_count": 3,
   "id": "e687d478-6b31-4ea1-a0a7-d155f66bfe84",
   "metadata": {},
   "outputs": [
    {
     "name": "stdout",
     "output_type": "stream",
     "text": [
      "      price  area  bedrooms  bathrooms  stories mainroad guestroom basement  \\\n",
      "0  13300000  7420         4          2        3      yes        no       no   \n",
      "1  12250000  8960         4          4        4      yes        no       no   \n",
      "2  12250000  9960         3          2        2      yes        no      yes   \n",
      "3  12215000  7500         4          2        2      yes        no      yes   \n",
      "4  11410000  7420         4          1        2      yes       yes      yes   \n",
      "\n",
      "  hotwaterheating airconditioning  parking prefarea furnishingstatus  \n",
      "0              no             yes        2      yes        furnished  \n",
      "1              no             yes        3       no        furnished  \n",
      "2              no              no        2      yes   semi-furnished  \n",
      "3              no             yes        3      yes        furnished  \n",
      "4              no             yes        2       no        furnished  \n"
     ]
    }
   ],
   "source": [
    "#load csv\n",
    "housing = pd.read_csv(\"Housing_Price_Data.csv\")\n",
    "print(housing.head())"
   ]
  },
  {
   "cell_type": "code",
   "execution_count": 4,
   "id": "4dda2c8f-e6ed-4bcd-b9a7-f3fb3a5f7bbf",
   "metadata": {},
   "outputs": [
    {
     "data": {
      "text/plain": [
       "(545, 13)"
      ]
     },
     "execution_count": 4,
     "metadata": {},
     "output_type": "execute_result"
    }
   ],
   "source": [
    "#understand shape\n",
    "housing.shape"
   ]
  },
  {
   "cell_type": "code",
   "execution_count": 5,
   "id": "252b1b16-aaf8-4ca7-8286-f22b666f80a7",
   "metadata": {},
   "outputs": [
    {
     "data": {
      "text/plain": [
       "price                int64\n",
       "area                 int64\n",
       "bedrooms             int64\n",
       "bathrooms            int64\n",
       "stories              int64\n",
       "mainroad            object\n",
       "guestroom           object\n",
       "basement            object\n",
       "hotwaterheating     object\n",
       "airconditioning     object\n",
       "parking              int64\n",
       "prefarea            object\n",
       "furnishingstatus    object\n",
       "dtype: object"
      ]
     },
     "execution_count": 5,
     "metadata": {},
     "output_type": "execute_result"
    }
   ],
   "source": [
    "#understand data types\n",
    "housing.dtypes"
   ]
  },
  {
   "cell_type": "code",
   "execution_count": 6,
   "id": "f4bfa98a-b23a-428b-9a94-54ff36971f49",
   "metadata": {},
   "outputs": [
    {
     "data": {
      "text/html": [
       "<div>\n",
       "<style scoped>\n",
       "    .dataframe tbody tr th:only-of-type {\n",
       "        vertical-align: middle;\n",
       "    }\n",
       "\n",
       "    .dataframe tbody tr th {\n",
       "        vertical-align: top;\n",
       "    }\n",
       "\n",
       "    .dataframe thead th {\n",
       "        text-align: right;\n",
       "    }\n",
       "</style>\n",
       "<table border=\"1\" class=\"dataframe\">\n",
       "  <thead>\n",
       "    <tr style=\"text-align: right;\">\n",
       "      <th></th>\n",
       "      <th>price</th>\n",
       "      <th>area</th>\n",
       "      <th>bedrooms</th>\n",
       "      <th>bathrooms</th>\n",
       "      <th>stories</th>\n",
       "      <th>parking</th>\n",
       "    </tr>\n",
       "  </thead>\n",
       "  <tbody>\n",
       "    <tr>\n",
       "      <th>count</th>\n",
       "      <td>545.00</td>\n",
       "      <td>545.00</td>\n",
       "      <td>545.00</td>\n",
       "      <td>545.00</td>\n",
       "      <td>545.00</td>\n",
       "      <td>545.00</td>\n",
       "    </tr>\n",
       "    <tr>\n",
       "      <th>mean</th>\n",
       "      <td>4766729.25</td>\n",
       "      <td>5150.54</td>\n",
       "      <td>2.97</td>\n",
       "      <td>1.29</td>\n",
       "      <td>1.81</td>\n",
       "      <td>0.69</td>\n",
       "    </tr>\n",
       "    <tr>\n",
       "      <th>std</th>\n",
       "      <td>1870439.62</td>\n",
       "      <td>2170.14</td>\n",
       "      <td>0.74</td>\n",
       "      <td>0.50</td>\n",
       "      <td>0.87</td>\n",
       "      <td>0.86</td>\n",
       "    </tr>\n",
       "    <tr>\n",
       "      <th>min</th>\n",
       "      <td>1750000.00</td>\n",
       "      <td>1650.00</td>\n",
       "      <td>1.00</td>\n",
       "      <td>1.00</td>\n",
       "      <td>1.00</td>\n",
       "      <td>0.00</td>\n",
       "    </tr>\n",
       "    <tr>\n",
       "      <th>25%</th>\n",
       "      <td>3430000.00</td>\n",
       "      <td>3600.00</td>\n",
       "      <td>2.00</td>\n",
       "      <td>1.00</td>\n",
       "      <td>1.00</td>\n",
       "      <td>0.00</td>\n",
       "    </tr>\n",
       "    <tr>\n",
       "      <th>50%</th>\n",
       "      <td>4340000.00</td>\n",
       "      <td>4600.00</td>\n",
       "      <td>3.00</td>\n",
       "      <td>1.00</td>\n",
       "      <td>2.00</td>\n",
       "      <td>0.00</td>\n",
       "    </tr>\n",
       "    <tr>\n",
       "      <th>75%</th>\n",
       "      <td>5740000.00</td>\n",
       "      <td>6360.00</td>\n",
       "      <td>3.00</td>\n",
       "      <td>2.00</td>\n",
       "      <td>2.00</td>\n",
       "      <td>1.00</td>\n",
       "    </tr>\n",
       "    <tr>\n",
       "      <th>max</th>\n",
       "      <td>13300000.00</td>\n",
       "      <td>16200.00</td>\n",
       "      <td>6.00</td>\n",
       "      <td>4.00</td>\n",
       "      <td>4.00</td>\n",
       "      <td>3.00</td>\n",
       "    </tr>\n",
       "  </tbody>\n",
       "</table>\n",
       "</div>"
      ],
      "text/plain": [
       "            price     area  bedrooms  bathrooms  stories  parking\n",
       "count      545.00   545.00    545.00     545.00   545.00   545.00\n",
       "mean   4766729.25  5150.54      2.97       1.29     1.81     0.69\n",
       "std    1870439.62  2170.14      0.74       0.50     0.87     0.86\n",
       "min    1750000.00  1650.00      1.00       1.00     1.00     0.00\n",
       "25%    3430000.00  3600.00      2.00       1.00     1.00     0.00\n",
       "50%    4340000.00  4600.00      3.00       1.00     2.00     0.00\n",
       "75%    5740000.00  6360.00      3.00       2.00     2.00     1.00\n",
       "max   13300000.00 16200.00      6.00       4.00     4.00     3.00"
      ]
     },
     "execution_count": 6,
     "metadata": {},
     "output_type": "execute_result"
    }
   ],
   "source": [
    "#Summary Statistics\n",
    "#Summary Stats for Numerical Columns\n",
    "pd.set_option('display.float_format', '{:.2f}'.format)\n",
    "housing.describe()\n"
   ]
  },
  {
   "cell_type": "code",
   "execution_count": 7,
   "id": "c8e76e2b-6aa3-446f-b2fe-2439bbd86eca",
   "metadata": {},
   "outputs": [
    {
     "name": "stdout",
     "output_type": "stream",
     "text": [
      "Unique values in column mainroad: ['yes' 'no']\n",
      "Unique values in column guestroom: ['no' 'yes']\n",
      "Unique values in column basement: ['no' 'yes']\n",
      "Unique values in column hotwaterheating: ['no' 'yes']\n",
      "Unique values in column airconditioning: ['yes' 'no']\n",
      "Unique values in column prefarea: ['yes' 'no']\n",
      "Unique values in column furnishingstatus: ['furnished' 'semi-furnished' 'unfurnished']\n"
     ]
    }
   ],
   "source": [
    "#Summary Stats for Categorical Data\n",
    "#Unique values in categorical data columns\n",
    "for column in housing.columns:\n",
    "    if housing[column].dtype == 'object':\n",
    "        print(f\"Unique values in column {column}: {housing[column].unique()}\")\n",
    "    "
   ]
  },
  {
   "cell_type": "code",
   "execution_count": 8,
   "id": "4e70d4b3-705a-4ac9-be79-a086034112e6",
   "metadata": {},
   "outputs": [
    {
     "name": "stdout",
     "output_type": "stream",
     "text": [
      "Total count of values in column: mainroad\n",
      "yes    468\n",
      "no      77\n",
      "Name: count, dtype: int64\n",
      "Total count of values in column: guestroom\n",
      "no     448\n",
      "yes     97\n",
      "Name: count, dtype: int64\n",
      "Total count of values in column: basement\n",
      "no     354\n",
      "yes    191\n",
      "Name: count, dtype: int64\n",
      "Total count of values in column: hotwaterheating\n",
      "no     520\n",
      "yes     25\n",
      "Name: count, dtype: int64\n",
      "Total count of values in column: airconditioning\n",
      "no     373\n",
      "yes    172\n",
      "Name: count, dtype: int64\n",
      "Total count of values in column: prefarea\n",
      "no     417\n",
      "yes    128\n",
      "Name: count, dtype: int64\n",
      "Total count of values in column: furnishingstatus\n",
      "semi-furnished    227\n",
      "unfurnished       178\n",
      "furnished         140\n",
      "Name: count, dtype: int64\n"
     ]
    }
   ],
   "source": [
    "#Summary Statistics for Categorical Data\n",
    "for column in housing.columns:\n",
    "    if housing[column].dtype == 'object':\n",
    "        print(f\"Total count of values in column: {housing[column].value_counts()}\")"
   ]
  },
  {
   "cell_type": "code",
   "execution_count": 9,
   "id": "8702cc6d-1b98-40fb-918d-1483840f6ac8",
   "metadata": {},
   "outputs": [
    {
     "data": {
      "text/plain": [
       "price               0\n",
       "area                0\n",
       "bedrooms            0\n",
       "bathrooms           0\n",
       "stories             0\n",
       "mainroad            0\n",
       "guestroom           0\n",
       "basement            0\n",
       "hotwaterheating     0\n",
       "airconditioning     0\n",
       "parking             0\n",
       "prefarea            0\n",
       "furnishingstatus    0\n",
       "dtype: int64"
      ]
     },
     "execution_count": 9,
     "metadata": {},
     "output_type": "execute_result"
    }
   ],
   "source": [
    "#Determine if there are any missing values:\n",
    "housing.isnull().sum()"
   ]
  },
  {
   "cell_type": "code",
   "execution_count": 10,
   "id": "5ea7f72b-2c95-417c-b9c6-9171d3c5aed8",
   "metadata": {},
   "outputs": [
    {
     "name": "stdout",
     "output_type": "stream",
     "text": [
      "   price_1767150  price_1820000  price_1855000  price_1890000  price_1960000  \\\n",
      "0          False          False          False          False          False   \n",
      "1          False          False          False          False          False   \n",
      "2          False          False          False          False          False   \n",
      "3          False          False          False          False          False   \n",
      "4          False          False          False          False          False   \n",
      "\n",
      "   price_2100000  price_2135000  price_2233000  price_2240000  price_2275000  \\\n",
      "0          False          False          False          False          False   \n",
      "1          False          False          False          False          False   \n",
      "2          False          False          False          False          False   \n",
      "3          False          False          False          False          False   \n",
      "4          False          False          False          False          False   \n",
      "\n",
      "   ...  guestroom_yes  basement_yes  hotwaterheating_yes  airconditioning_yes  \\\n",
      "0  ...          False         False                False                 True   \n",
      "1  ...          False         False                False                 True   \n",
      "2  ...          False          True                False                False   \n",
      "3  ...          False          True                False                 True   \n",
      "4  ...           True          True                False                 True   \n",
      "\n",
      "   parking_1  parking_2  parking_3  prefarea_yes  \\\n",
      "0      False       True      False          True   \n",
      "1      False      False       True         False   \n",
      "2      False       True      False          True   \n",
      "3      False      False       True          True   \n",
      "4      False       True      False         False   \n",
      "\n",
      "   furnishingstatus_semi-furnished  furnishingstatus_unfurnished  \n",
      "0                            False                         False  \n",
      "1                            False                         False  \n",
      "2                             True                         False  \n",
      "3                            False                         False  \n",
      "4                            False                         False  \n",
      "\n",
      "[5 rows x 523 columns]\n"
     ]
    }
   ],
   "source": [
    "#Correlation Analysis\n",
    "#I want to create a heat map, so I'll have to go ahead and create some dummies \n",
    "#loop through categorical columns to convert to dummies\n",
    "\n",
    "#initialize dummy df\n",
    "housing_dummies = pd.DataFrame()\n",
    "\n",
    "#pull list of categorical data columns, to be used later....\n",
    "categorical_cols = housing.select_dtypes(include=['object']).columns\n",
    "\n",
    "for column in housing:\n",
    "        #create dummy variables\n",
    "        dummies = pd.get_dummies(housing[column], prefix=column, drop_first=True)\n",
    "        #concatenate dummies to new dataframe\n",
    "        housing_dummies = pd.concat([housing_dummies, dummies], axis=1)\n",
    "\n",
    "print(housing_dummies.head())"
   ]
  },
  {
   "cell_type": "code",
   "execution_count": 11,
   "id": "989fcec5-d83e-4566-b47a-1a0ff38dda62",
   "metadata": {
    "scrolled": true
   },
   "outputs": [
    {
     "name": "stdout",
     "output_type": "stream",
     "text": [
      "        price  area  bedrooms  bathrooms  stories  parking  price_1767150  \\\n",
      "0    13300000  7420         4          2        3        2          False   \n",
      "1    12250000  8960         4          4        4        3          False   \n",
      "2    12250000  9960         3          2        2        2          False   \n",
      "3    12215000  7500         4          2        2        3          False   \n",
      "4    11410000  7420         4          1        2        2          False   \n",
      "..        ...   ...       ...        ...      ...      ...            ...   \n",
      "540   1820000  3000         2          1        1        2          False   \n",
      "541   1767150  2400         3          1        1        0           True   \n",
      "542   1750000  3620         2          1        1        0          False   \n",
      "543   1750000  2910         3          1        1        0          False   \n",
      "544   1750000  3850         3          1        2        0          False   \n",
      "\n",
      "     price_1820000  price_1855000  price_1890000  ...  guestroom_yes  \\\n",
      "0            False          False          False  ...          False   \n",
      "1            False          False          False  ...          False   \n",
      "2            False          False          False  ...          False   \n",
      "3            False          False          False  ...          False   \n",
      "4            False          False          False  ...           True   \n",
      "..             ...            ...            ...  ...            ...   \n",
      "540           True          False          False  ...          False   \n",
      "541          False          False          False  ...          False   \n",
      "542          False          False          False  ...          False   \n",
      "543          False          False          False  ...          False   \n",
      "544          False          False          False  ...          False   \n",
      "\n",
      "     basement_yes  hotwaterheating_yes  airconditioning_yes  parking_1  \\\n",
      "0           False                False                 True      False   \n",
      "1           False                False                 True      False   \n",
      "2            True                False                False      False   \n",
      "3            True                False                 True      False   \n",
      "4            True                False                 True      False   \n",
      "..            ...                  ...                  ...        ...   \n",
      "540          True                False                False      False   \n",
      "541         False                False                False      False   \n",
      "542         False                False                False      False   \n",
      "543         False                False                False      False   \n",
      "544         False                False                False      False   \n",
      "\n",
      "     parking_2  parking_3  prefarea_yes  furnishingstatus_semi-furnished  \\\n",
      "0         True      False          True                            False   \n",
      "1        False       True         False                            False   \n",
      "2         True      False          True                             True   \n",
      "3        False       True          True                            False   \n",
      "4         True      False         False                            False   \n",
      "..         ...        ...           ...                              ...   \n",
      "540       True      False         False                            False   \n",
      "541      False      False         False                             True   \n",
      "542      False      False         False                            False   \n",
      "543      False      False         False                            False   \n",
      "544      False      False         False                            False   \n",
      "\n",
      "     furnishingstatus_unfurnished  \n",
      "0                           False  \n",
      "1                           False  \n",
      "2                           False  \n",
      "3                           False  \n",
      "4                           False  \n",
      "..                            ...  \n",
      "540                          True  \n",
      "541                         False  \n",
      "542                          True  \n",
      "543                         False  \n",
      "544                          True  \n",
      "\n",
      "[545 rows x 529 columns]\n"
     ]
    }
   ],
   "source": [
    "#create new df\n",
    "#set equal to housing to create a clone of original df\n",
    "housing_final = housing\n",
    "#drop categorical columns, concat dummies with final df\n",
    "housing_final = pd.concat([housing_final.drop(categorical_cols, axis=1), housing_dummies], axis=1)\n",
    "\n",
    "print(housing_final)"
   ]
  },
  {
   "cell_type": "code",
   "execution_count": null,
   "id": "c75dca7d-2b2e-40ce-9616-42f33214fc71",
   "metadata": {},
   "outputs": [],
   "source": [
    "#Correlation Analysis\n",
    "housing_corr_matrix = housing_final.corr()\n",
    "sns.heatmap(housing_corr_matrix, annot=True, cmap='coolwarm')\n",
    "plt.show()"
   ]
  },
  {
   "cell_type": "code",
   "execution_count": null,
   "id": "a069e90c-7bc9-4ac0-b7e1-e40ac4484893",
   "metadata": {},
   "outputs": [],
   "source": [
    "#Since that doesn't want to work, we'll try creating scatter plots to look at correlation!\n",
    "#lets confirm data types in the new table\n",
    "print(housing_final)"
   ]
  }
 ],
 "metadata": {
  "kernelspec": {
   "display_name": "Python 3 (ipykernel)",
   "language": "python",
   "name": "python3"
  },
  "language_info": {
   "codemirror_mode": {
    "name": "ipython",
    "version": 3
   },
   "file_extension": ".py",
   "mimetype": "text/x-python",
   "name": "python",
   "nbconvert_exporter": "python",
   "pygments_lexer": "ipython3",
   "version": "3.11.7"
  }
 },
 "nbformat": 4,
 "nbformat_minor": 5
}
